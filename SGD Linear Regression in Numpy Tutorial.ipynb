{
 "cells": [
  {
   "cell_type": "markdown",
   "metadata": {},
   "source": [
    "# Linear Regression on MNIST in Numpy Tutorial\n",
    "\n",
    "In this notebook, we will write a script to perform a linear regression on the MNIST dataset from scratch in Numpy, without a framework like Tensorflow or Keras. For the sake of consistency with more complex networks, we will use Stochastic Gradient Descent (SGD) to perform the regression, instead of the more efficient least squares optimization. This will allow us to add one more layer and make a logistic regression classifier in the next lesson."
   ]
  },
  {
   "cell_type": "markdown",
   "metadata": {},
   "source": [
    "## Load and Preprocess Data\n",
    "\n",
    "This will be a duplicate of my other tutorial on CNNs, so the description will be the same. We will load the data, perform a per-pixel normalization, and encode the labels. To start, we'll import the MNIST data without one-hot encoding - we'll do that ourselves later. If you'd rather avoid one-hot encoding manually, just set `one_hot=True` and make the necessary adjustments. We will also load the data manually, even though just using the mnist.train.next_batch command can be easier."
   ]
  },
  {
   "cell_type": "code",
   "execution_count": 1,
   "metadata": {
    "collapsed": false
   },
   "outputs": [
    {
     "name": "stdout",
     "output_type": "stream",
     "text": [
      "Extracting MNIST_data/train-images-idx3-ubyte.gz\n",
      "Extracting MNIST_data/train-labels-idx1-ubyte.gz\n",
      "Extracting MNIST_data/t10k-images-idx3-ubyte.gz\n",
      "Extracting MNIST_data/t10k-labels-idx1-ubyte.gz\n"
     ]
    }
   ],
   "source": [
    "import numpy as np\n",
    "from tensorflow.examples.tutorials.mnist import input_data # downloads MNIST images\n",
    "\n",
    "mnist = input_data.read_data_sets('MNIST_data', one_hot=False) \n",
    "\n",
    "data, labels = mnist.train.next_batch(50000)"
   ]
  },
  {
   "cell_type": "markdown",
   "metadata": {},
   "source": [
    "We then divide the dataset into train and validation datasets, and preprocess them. We subtract the per-pixel mean (the average of each pixel over the entire training set, which sets the mean to zero, and the standard deviation, in this case, to about .25."
   ]
  },
  {
   "cell_type": "code",
   "execution_count": 3,
   "metadata": {
    "collapsed": false
   },
   "outputs": [
    {
     "name": "stdout",
     "output_type": "stream",
     "text": [
      "Mean: -0.000055, Std: 0.259276\n"
     ]
    }
   ],
   "source": [
    "data = data.reshape(50000, 28, 28, 1)\n",
    "\n",
    "temp_data = data - np.mean(data, axis=0)\n",
    "\n",
    "train_dataset = temp_data[:45000].reshape(45000, 784)\n",
    "train_labels = labels[:45000]\n",
    "\n",
    "valid_dataset = temp_data[45000:].reshape(5000, 784)\n",
    "valid_labels = labels[45000:]\n",
    "\n",
    "print(\"Mean: %f, Std: %f\" % (np.mean(train_dataset), np.std(train_dataset)))"
   ]
  },
  {
   "cell_type": "markdown",
   "metadata": {},
   "source": [
    "## Verify data\n",
    "\n",
    "We can use the matplotlib.pyplot module to view some of the sample images and their corresponding labels. The data is encoded by defaut as a single `(784, 1)` Numpy array, so we need to manually reshape it in order to display the correct image."
   ]
  },
  {
   "cell_type": "code",
   "execution_count": 4,
   "metadata": {
    "collapsed": false
   },
   "outputs": [
    {
     "name": "stdout",
     "output_type": "stream",
     "text": [
      "Number: 2\n"
     ]
    },
    {
     "data": {
      "image/png": "[encoded data removed]",
      "text/plain": [
       "<matplotlib.figure.Figure at 0x125a4cd30>"
      ]
     },
     "metadata": {},
     "output_type": "display_data"
    }
   ],
   "source": [
    "import matplotlib.pyplot as plt\n",
    "import random\n",
    "\n",
    "n = random.randint(0, len(valid_dataset))\n",
    "\n",
    "image = valid_dataset[n] #mnist.train.next_batch(1)\n",
    "print(\"Number: {}\".format(valid_labels[n]))\n",
    "\n",
    "plt.imshow(image.reshape(28, 28))\n",
    "\n",
    "plt.show()"
   ]
  },
  {
   "cell_type": "markdown",
   "metadata": {},
   "source": [
    "## Utilities:\n",
    "\n",
    "These are utilities for processing the data and handling the process of training the model."
   ]
  },
  {
   "cell_type": "markdown",
   "metadata": {},
   "source": [
    "### One-hot encode labels:\n",
    "\n",
    "We can use a very concise but somewhat sophisticated script to one-hot encode the labels. The inner statement in parenthesis uses Numpy broadcasting to convert the arange array, with shape `(10, )`, into an array of shape `(10, len(labels))`, and the labels array, with shape `(len(labels),)`, into an array with shape `(len(labels), 1)`. The `[:,None]` syntax creates a new axis with length 1. The two arrays are then compared elementwise, returning a boolean array which is `True` in the desired position. We then cast the boolean values as integers, to get our one-hot encoded labels."
   ]
  },
  {
   "cell_type": "code",
   "execution_count": 8,
   "metadata": {
    "collapsed": true
   },
   "outputs": [],
   "source": [
    "def encode_labels(labels):\n",
    "    return (np.arange(10) == labels[:,None]).astype(np.uint8)"
   ]
  },
  {
   "cell_type": "code",
   "execution_count": 9,
   "metadata": {
    "collapsed": false
   },
   "outputs": [
    {
     "name": "stdout",
     "output_type": "stream",
     "text": [
      "Label:  5 Encoded label:  [0 0 0 0 0 1 0 0 0 0]\n"
     ]
    }
   ],
   "source": [
    "train_labels_encoded = encode_labels(train_labels)\n",
    "valid_labels_encoded = encode_labels(valid_labels)\n",
    "\n",
    "print(\"Label: \", train_labels[2], \"Encoded label: \", train_labels_encoded[2])"
   ]
  },
  {
   "cell_type": "markdown",
   "metadata": {},
   "source": [
    "### Generate batches from preprocessed data:\n",
    "\n",
    "This is pretty self explanatory. Given a dataset and the corresponding labels, it generates a random set of examples of the desired size."
   ]
  },
  {
   "cell_type": "code",
   "execution_count": 10,
   "metadata": {
    "collapsed": true
   },
   "outputs": [],
   "source": [
    "def next_batch(dataset, labels, batch_size):\n",
    "    indices = random.sample(range(len(dataset)), batch_size)\n",
    "    batch_data = dataset[indices]\n",
    "    batch_labels = labels[indices].reshape(batch_size,10)\n",
    "    return batch_data, batch_labels"
   ]
  },
  {
   "cell_type": "markdown",
   "metadata": {},
   "source": [
    "### Evaluate Model Accuracy\n",
    "\n",
    "This will compute the argmax (index of maximum element of predicted encoded labels), and compare that to the actual label."
   ]
  },
  {
   "cell_type": "code",
   "execution_count": 86,
   "metadata": {
    "collapsed": false
   },
   "outputs": [],
   "source": [
    "def evaluate(size, weights, biases):\n",
    "    data, labels = next_batch(valid_dataset, valid_labels_encoded, size)\n",
    "    prediction = predict(data, weights, biases)\n",
    "    accuracy = (np.argmax(prediction, axis=1) == np.argmax(labels, axis=1)).sum() * 100 / size\n",
    "    print(\"The accuracy of your model is %s%%!\" % accuracy)\n",
    "    return accuracy"
   ]
  },
  {
   "cell_type": "markdown",
   "metadata": {},
   "source": [
    "## Model Setup\n",
    "\n",
    "This is the meat of the linear regression optimization, and it is presented in two implementations. The first is an iterative version, which is more intuitive but far less efficient than the vectorized version. Numpy has a number of high efficiency vectorized operations which are precompiled in C, and we can take advantage of the compiled code if we write it without loops."
   ]
  },
  {
   "cell_type": "markdown",
   "metadata": {},
   "source": [
    "Since this is just linear regression, our model is very simple. We just have a single matrix, with shape `10x784`, which we multiply by the pixels in our image to predict a probability distribution over our 10 classes (and a bias). The gradient of a linear transformation is extremely simple: it's just the matrix itself. So for each weight, we just have to compute the gradient of the loss. We will use an L2 loss, so the calculus looks like this:"
   ]
  },
  {
   "cell_type": "markdown",
   "metadata": {},
   "source": [
    "$$ L = \\frac{1}{2}\\sum_{i}^{\\text{batch size}}\\sum_j^{10} (p_{ij} - \\text{label}_{ij})^2$$\n",
    "\n",
    "where $p_{ij}$ is the $j$th component of the $i$th prediction in the minibatch. Specifically,\n",
    "\n",
    "$$p_i = W\\cdot x_i + b$$\n",
    "\n",
    "where $x_i$ is the $i$th image in the dataset. We add the one-half to cancel out the square during differentiation. Therefore:\n",
    "\n",
    "$$\\frac{\\partial L}{\\partial w_{m n}} = \\sum_{i}^{\\text{batch size}} (p_{im} - \\text{label}_{im})\\cdot x_{in}$$."
   ]
  },
  {
   "cell_type": "markdown",
   "metadata": {},
   "source": [
    "First, we define the learning rate, which controls how much the weights are updated at each step. "
   ]
  },
  {
   "cell_type": "code",
   "execution_count": 126,
   "metadata": {
    "collapsed": false
   },
   "outputs": [],
   "source": [
    "batch_size = 500\n",
    "iterations = 401\n",
    "\n",
    "#learning_rate = .2*np.exp(-3*np.arange(0,iterations) / iterations) # exponential learning rate\n",
    "# learning_rate = np.array([.05*(1 - x/iterations) for x in range(iterations)]) # linear learning rate\n",
    "learning_rate = .2* np.ones(iterations) # linear learning rate\n",
    "\n",
    "\n",
    "def predict(data, weights, biases):\n",
    "    #print(\"Predict data:\", np.argmax(data[0:5], axis=1))\n",
    "    \"\"\"Predicts an encoded label for a given image (multiplies the image by the weight matrix and adds the bias).\"\"\"\n",
    "    return np.dot(data, weights.T) + biases.T\n",
    "\n",
    "def linear_regression(batch_size, iterations, learning_rate):\n",
    "    \"\"\"For i iterations, computes the loss, and then calculates the gradient for each of the weights and biases.\"\"\"\n",
    "    \n",
    "    weights = np.random.randn(10, 784) # initialize weights to normal distribution\n",
    "    biases = np.random.randn(10)\n",
    "\n",
    "    for i in range(iterations):\n",
    "        data, labels = next_batch(train_dataset, train_labels_encoded, batch_size)\n",
    "        prediction = predict(data, weights, biases) \n",
    "        error_arr = labels - prediction\n",
    "        loss = np.tensordot(error_arr, error_arr) / (2*batch_size)\n",
    "        if i % 10 == 0:\n",
    "            print(\"Loss at step %s is %s\" % (i, loss))\n",
    "        if i % 50 == 0:\n",
    "            evaluate(512, weights, biases)\n",
    "        dW = np.zeros_like(weights)\n",
    "        dB = np.zeros_like(biases)\n",
    "        for j in range(np.shape(weights)[0]):\n",
    "            for k in range(np.shape(weights)[1]):\n",
    "                dW[j,k]= - np.sum((labels-prediction)[:, j] * data[:, k]) / batch_size\n",
    "        for j in range(len(biases)):\n",
    "            dB[j]= - np.sum((labels-prediction)[:, j]) / batch_size\n",
    "\n",
    "        weights = weights - learning_rate[i]*dW\n",
    "        biases = biases - learning_rate[i]*dB\n",
    "\n",
    "    return weights, biases"
   ]
  },
  {
   "cell_type": "code",
   "execution_count": 127,
   "metadata": {
    "collapsed": false,
    "scrolled": false
   },
   "outputs": [
    {
     "name": "stdout",
     "output_type": "stream",
     "text": [
      "Loss at step 0 is 300.194849182\n",
      "The accuracy of your model is 9.765625%!\n",
      "Loss at step 10 is 54.1172580969\n",
      "Loss at step 20 is 35.3476123198\n",
      "Loss at step 30 is 27.8820963894\n",
      "Loss at step 40 is 22.2641059254\n",
      "Loss at step 50 is 19.2610970945\n",
      "The accuracy of your model is 12.890625%!\n",
      "Loss at step 60 is 17.4446407037\n",
      "Loss at step 70 is 14.9998902915\n",
      "Loss at step 80 is 13.8840358746\n",
      "Loss at step 90 is 12.6696528459\n",
      "Loss at step 100 is 11.9472870476\n",
      "The accuracy of your model is 18.9453125%!\n",
      "Loss at step 110 is 11.1995934117\n",
      "Loss at step 120 is 9.76998217169\n",
      "Loss at step 130 is 9.34830128248\n",
      "Loss at step 140 is 9.25743411949\n",
      "Loss at step 150 is 9.14742682457\n",
      "The accuracy of your model is 18.359375%!\n",
      "Loss at step 160 is 8.05281726146\n",
      "Loss at step 170 is 7.83602981463\n",
      "Loss at step 180 is 7.53155884156\n",
      "Loss at step 190 is 6.95065720402\n",
      "Loss at step 200 is 7.02660445715\n",
      "The accuracy of your model is 25.0%!\n",
      "Loss at step 210 is 6.48889249862\n",
      "Loss at step 220 is 6.04254583501\n",
      "Loss at step 230 is 6.24252149485\n",
      "Loss at step 240 is 5.80604810139\n",
      "Loss at step 250 is 5.79681754398\n",
      "The accuracy of your model is 25.0%!\n",
      "Loss at step 260 is 5.5121807485\n",
      "Loss at step 270 is 5.16721680664\n",
      "Loss at step 280 is 5.00539918302\n",
      "Loss at step 290 is 4.81926479437\n",
      "Loss at step 300 is 4.61905445275\n",
      "The accuracy of your model is 23.6328125%!\n",
      "Loss at step 310 is 4.54092319499\n",
      "Loss at step 320 is 4.4565757348\n",
      "Loss at step 330 is 4.39269638006\n",
      "Loss at step 340 is 3.9507685057\n",
      "Loss at step 350 is 3.87019181571\n",
      "The accuracy of your model is 27.9296875%!\n",
      "Loss at step 360 is 3.60652736538\n",
      "Loss at step 370 is 3.63928615966\n",
      "Loss at step 380 is 3.58833675337\n",
      "Loss at step 390 is 3.78674311888\n"
     ]
    }
   ],
   "source": [
    "weights, biases = linear_regression(batch_size, iterations, learning_rate)"
   ]
  },
  {
   "cell_type": "markdown",
   "metadata": {},
   "source": [
    "As you can see, linear regression really isn't doing a great job of capturing the complexity of the MNIST dataset. However, it can be a very useful tool, and we'll find that with the addition of a logistic layer, it can perform quite well. But before that, let's vectorize this example.\n",
    "\n",
    "**Vectorization** is the process of converting an iterative/loop based algorithm into something that uses Numpy's built-in, pre-compiled methods. The code is much faster, and much more compact."
   ]
  },
  {
   "cell_type": "code",
   "execution_count": 142,
   "metadata": {
    "collapsed": true
   },
   "outputs": [],
   "source": [
    "batch_size = 500\n",
    "iterations = 2001\n",
    "\n",
    "learning_rate = .4*np.exp(-5*np.arange(0,iterations) / iterations) # exponential learning rate\n",
    "# learning_rate = np.array([.05*(1 - x/iterations) for x in range(iterations)]) # linear learning rate\n",
    "#learning_rate = .2* np.ones(iterations) # linear learning rate\n",
    "\n",
    "def vectorized_linear_regression(batch_size, iterations, learning_rate):\n",
    "    \n",
    "    weights = np.random.randn(10, 784) # initialize weights to normal distribution\n",
    "    biases = np.random.randn(10, 1)\n",
    "    \n",
    "    for i in range(iterations):\n",
    "        data, labels = next_batch(train_dataset, train_labels_encoded, batch_size)\n",
    "        prediction = predict(data, weights, biases)\n",
    "        error_arr = labels - prediction\n",
    "        loss = np.tensordot(error_arr, error_arr) / (2*batch_size)\n",
    "        if i % 50 == 0: print(\"Loss at step %s is %s\" % (i, loss))\n",
    "        dW = - np.sum(error_arr[..., None] * data[:, None, :], axis=0) / batch_size\n",
    "        dB = - np.sum(error_arr, axis=0)[:, None] / batch_size\n",
    "        weights = weights - learning_rate[i]*dW\n",
    "        biases = biases - learning_rate[i]*dB\n",
    "        \n",
    "        if i % 300 == 0:\n",
    "            evaluate(512, weights, biases)\n",
    "\n",
    "    return weights, biases"
   ]
  },
  {
   "cell_type": "code",
   "execution_count": 143,
   "metadata": {
    "collapsed": false
   },
   "outputs": [
    {
     "name": "stdout",
     "output_type": "stream",
     "text": [
      "Loss at step 0 is 269.230131634\n",
      "The accuracy of your model is 9.765625%!\n",
      "Loss at step 50 is 12.7985945259\n",
      "Loss at step 100 is 7.58873564243\n",
      "Loss at step 150 is 5.62362972117\n",
      "Loss at step 200 is 4.54804419135\n",
      "Loss at step 250 is 3.61121634433\n",
      "Loss at step 300 is 3.13486886243\n",
      "The accuracy of your model is 27.1484375%!\n",
      "Loss at step 350 is 2.83787208575\n",
      "Loss at step 400 is 2.77736766216\n",
      "Loss at step 450 is 2.49060247774\n",
      "Loss at step 500 is 2.21586026204\n",
      "Loss at step 550 is 2.17008208553\n",
      "Loss at step 600 is 2.11486219364\n",
      "The accuracy of your model is 36.5234375%!\n",
      "Loss at step 650 is 1.99350500395\n",
      "Loss at step 700 is 2.03029032889\n",
      "Loss at step 750 is 1.91548918287\n",
      "Loss at step 800 is 1.91941634693\n",
      "Loss at step 850 is 1.76436628185\n",
      "Loss at step 900 is 1.74610586957\n",
      "The accuracy of your model is 41.015625%!\n",
      "Loss at step 950 is 1.70749525562\n",
      "Loss at step 1000 is 1.84194906092\n",
      "Loss at step 1050 is 1.7252152309\n",
      "Loss at step 1100 is 1.66007152463\n",
      "Loss at step 1150 is 1.8182176767\n",
      "Loss at step 1200 is 1.66613629432\n",
      "The accuracy of your model is 44.140625%!\n",
      "Loss at step 1250 is 1.68994557097\n",
      "Loss at step 1300 is 1.70741214932\n",
      "Loss at step 1350 is 1.72599866424\n",
      "Loss at step 1400 is 1.58031046666\n",
      "Loss at step 1450 is 1.50418628067\n",
      "Loss at step 1500 is 1.50043822848\n",
      "The accuracy of your model is 42.96875%!\n",
      "Loss at step 1550 is 1.72135414721\n",
      "Loss at step 1600 is 1.58738831108\n",
      "Loss at step 1650 is 1.7394122544\n",
      "Loss at step 1700 is 1.70393479706\n",
      "Loss at step 1750 is 1.61325564081\n",
      "Loss at step 1800 is 1.69353509071\n",
      "The accuracy of your model is 45.1171875%!\n",
      "Loss at step 1850 is 1.58750564142\n",
      "Loss at step 1900 is 1.54129767461\n",
      "Loss at step 1950 is 1.57178105436\n"
     ]
    }
   ],
   "source": [
    "weights, biases = vectorized_linear_regression(batch_size, iterations, learning_rate)"
   ]
  },
  {
   "cell_type": "markdown",
   "metadata": {},
   "source": [
    "Notice how much faster this method is, and how much more quickly it converges to a useful model. This is the power of vectorization, and why Numpy is such a great tool for any sort of scientific computing in Python. See my next notebook on Logistic regression, where we'll take this a step further!"
   ]
  },
  {
   "cell_type": "code",
   "execution_count": null,
   "metadata": {
    "collapsed": true
   },
   "outputs": [],
   "source": []
  }
 ],
 "metadata": {
  "anaconda-cloud": {},
  "kernelspec": {
   "display_name": "Python [conda env:tensorflow]",
   "language": "python",
   "name": "conda-env-tensorflow-py"
  },
  "language_info": {
   "codemirror_mode": {
    "name": "ipython",
    "version": 3
   },
   "file_extension": ".py",
   "mimetype": "text/x-python",
   "name": "python",
   "nbconvert_exporter": "python",
   "pygments_lexer": "ipython3",
   "version": "3.5.3"
  }
 },
 "nbformat": 4,
 "nbformat_minor": 1
}
